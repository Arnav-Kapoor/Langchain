{
 "cells": [
  {
   "cell_type": "code",
   "execution_count": null,
   "id": "2f5ed18c-886c-4728-9385-9821018e0f3e",
   "metadata": {
    "scrolled": true,
    "tags": []
   },
   "outputs": [],
   "source": [
    "pip install langchain"
   ]
  },
  {
   "cell_type": "code",
   "execution_count": null,
   "id": "5615d9bb-af8b-4c52-a421-4e98717f6ae6",
   "metadata": {},
   "outputs": [],
   "source": [
    "pip install langchain_experimental"
   ]
  },
  {
   "cell_type": "code",
   "execution_count": 2,
   "id": "ca708cf1-30f1-4d23-a5df-984395603a34",
   "metadata": {},
   "outputs": [
    {
     "name": "stdin",
     "output_type": "stream",
     "text": [
      " ········\n"
     ]
    }
   ],
   "source": [
    "import getpass\n",
    "import os\n",
    "\n",
    "os.environ[\"LANGCHAIN_TRACING_V2\"]=\"true\"\n",
    "os.environ[\"LANGCHAIN_API_KEY\"]=getpass.getpass()"
   ]
  },
  {
   "cell_type": "code",
   "execution_count": 11,
   "id": "01001dd1-11b4-4208-a0a5-332658b8209d",
   "metadata": {},
   "outputs": [
    {
     "name": "stdout",
     "output_type": "stream",
     "text": [
      "Note: you may need to restart the kernel to use updated packages.\n"
     ]
    },
    {
     "name": "stderr",
     "output_type": "stream",
     "text": [
      "\n",
      "[notice] A new release of pip available: 22.2.2 -> 24.0\n",
      "[notice] To update, run: D:\\LangChain\\langchain\\Scripts\\python.exe -m pip install --upgrade pip\n"
     ]
    }
   ],
   "source": [
    "pip install -qU langchain-fireworks"
   ]
  },
  {
   "cell_type": "code",
   "execution_count": 12,
   "id": "a3b55f9c-827c-4bf1-ae4a-15111b3838fe",
   "metadata": {},
   "outputs": [
    {
     "name": "stdin",
     "output_type": "stream",
     "text": [
      " ········\n"
     ]
    }
   ],
   "source": [
    "os.environ[\"FIREWORKS_API_KEY\"] = getpass.getpass()"
   ]
  },
  {
   "cell_type": "code",
   "execution_count": 13,
   "id": "f3839d06-0355-4962-b320-115b100d1850",
   "metadata": {},
   "outputs": [],
   "source": [
    "from langchain_fireworks import ChatFireworks\n",
    "model=ChatFireworks(model=\"accounts/fireworks/models/mixtral-8x7b-instruct\")"
   ]
  },
  {
   "cell_type": "code",
   "execution_count": 14,
   "id": "4c312bed-d78b-45b7-8115-4fa24c3e2835",
   "metadata": {},
   "outputs": [
    {
     "data": {
      "text/plain": [
       "AIMessage(content='Hello! In Hindi, \"Hi\" is translated as \"Namaste\" or \"Hello\" (the same as in English). So, you can say \"Namaste\" or \"Hello\" to greet someone in Hindi.\\n\\nNote: \"Namaste\" is a more traditional and respectful greeting in Hindi, especially when used in a formal or religious context. It is often accompanied by pressing your palms together in front of your chest and slightly bowing your head. On the other hand, \"Hello\" is a more modern and casual greeting, similar to its usage in English.', response_metadata={'token_usage': {'prompt_tokens': 19, 'total_tokens': 148, 'completion_tokens': 129}, 'model_name': 'accounts/fireworks/models/mixtral-8x7b-instruct', 'system_fingerprint': '', 'finish_reason': 'stop', 'logprobs': None}, id='run-69054c7b-55c6-49f6-8718-797a95183de2-0')"
      ]
     },
     "execution_count": 14,
     "metadata": {},
     "output_type": "execute_result"
    }
   ],
   "source": [
    "from langchain_core.messages import HumanMessage, SystemMessage\n",
    "\n",
    "messages=[SystemMessage(content=\"Translate the following from English to Hindi\"),\n",
    "          HumanMessage(content=\"Hi\")]\n",
    "model.invoke(messages)"
   ]
  },
  {
   "cell_type": "markdown",
   "id": "97377ddf-be3c-4426-bc25-2003177f23e4",
   "metadata": {},
   "source": [
    "##### we use a string parser called StrOutputParser to extract only the result string from the AI message"
   ]
  },
  {
   "cell_type": "code",
   "execution_count": 15,
   "id": "bdc5fc77-bebc-4af4-97ae-304d08010d46",
   "metadata": {},
   "outputs": [],
   "source": [
    "from langchain_core.output_parsers import StrOutputParser\n",
    "\n",
    "parser=StrOutputParser()"
   ]
  },
  {
   "cell_type": "code",
   "execution_count": 16,
   "id": "3815fc9e-2e8c-4358-b6e4-7c99dd4d125b",
   "metadata": {},
   "outputs": [
    {
     "data": {
      "text/plain": [
       "'Hello! In Hindi, \"Hi\" is translated as \"Namaste\" or \"Hello\" (the same as in English). So, you can say \"Namaste\" or \"Hello\" to greet someone in Hindi.\\n\\nNote: \"Namaste\" is a more traditional and respectful greeting in Hindi, especially when used in a formal or religious context. It is often accompanied by pressing your palms together in front of your chest and slightly bowing your head. On the other hand, \"Hello\" is a more modern and casual greeting, similar to its usage in English.'"
      ]
     },
     "execution_count": 16,
     "metadata": {},
     "output_type": "execute_result"
    }
   ],
   "source": [
    "result=model.invoke(messages)\n",
    "\n",
    "parser.invoke(result)"
   ]
  },
  {
   "cell_type": "markdown",
   "id": "75db4616-a9e6-4fe7-b5f8-fbceee992405",
   "metadata": {},
   "source": [
    "#### the parser can be chained so that it gets called everytime with the chain. this is done by | operator "
   ]
  },
  {
   "cell_type": "code",
   "execution_count": 17,
   "id": "13a7bd1b-bc4f-4f42-bfbf-4e9a892513fc",
   "metadata": {},
   "outputs": [
    {
     "data": {
      "text/plain": [
       "'Hello! In Hindi, \"Hi\" is translated as \"Namaste\" or \"Hello\" (the same as in English). So, you can say \"Namaste\" or \"Hello\" to greet someone in Hindi.\\n\\nNote: \"Namaste\" is a more traditional and respectful greeting in Hindi, especially when used in a formal or religious context. It is often accompanied by pressing your palms together in front of your chest and slightly bowing your head. On the other hand, \"Hello\" is a more modern and casual greeting, similar to its usage in English.'"
      ]
     },
     "execution_count": 17,
     "metadata": {},
     "output_type": "execute_result"
    }
   ],
   "source": [
    "chain=model|parser\n",
    "\n",
    "chain.invoke(messages)"
   ]
  },
  {
   "cell_type": "markdown",
   "id": "5a39c95f-1741-4449-a791-22de773b331d",
   "metadata": {},
   "source": [
    "## Prompt Templates"
   ]
  },
  {
   "cell_type": "markdown",
   "id": "83661e5d-7c02-4666-8970-9a35bd329b71",
   "metadata": {},
   "source": [
    "#### they take raw data input from user and return a prompt ready to be passed into the model."
   ]
  },
  {
   "cell_type": "code",
   "execution_count": 18,
   "id": "e3f3967e-c2c7-4020-be7b-89f5dbe949df",
   "metadata": {},
   "outputs": [],
   "source": [
    "from langchain_core.prompts import ChatPromptTemplate"
   ]
  },
  {
   "cell_type": "code",
   "execution_count": 20,
   "id": "3d0b6501-3ce6-4953-82ed-faa05afbca42",
   "metadata": {},
   "outputs": [],
   "source": [
    "system_template=\"Translate the following into {language}:\""
   ]
  },
  {
   "cell_type": "code",
   "execution_count": 21,
   "id": "63cf1aa0-4ef1-4aee-94ca-1320df555870",
   "metadata": {},
   "outputs": [],
   "source": [
    "prompt_template=ChatPromptTemplate.from_messages([(\"system\",system_template),(\"user\",\"{text}\")])"
   ]
  },
  {
   "cell_type": "code",
   "execution_count": 22,
   "id": "2fe77fd7-842f-4842-84d5-462e102a2838",
   "metadata": {},
   "outputs": [],
   "source": [
    "result=prompt_template.invoke({\"language\":\"Hindi\",\"text\":\"Hi\"})"
   ]
  },
  {
   "cell_type": "code",
   "execution_count": 23,
   "id": "0aeb96d1-58d1-43aa-b20c-f18459b82542",
   "metadata": {},
   "outputs": [
    {
     "data": {
      "text/plain": [
       "ChatPromptValue(messages=[SystemMessage(content='Translate the following into Hindi:'), HumanMessage(content='Hi')])"
      ]
     },
     "execution_count": 23,
     "metadata": {},
     "output_type": "execute_result"
    }
   ],
   "source": [
    "result"
   ]
  },
  {
   "cell_type": "code",
   "execution_count": 24,
   "id": "f6b60047-096f-4c90-8e62-dbf8e4705110",
   "metadata": {},
   "outputs": [
    {
     "data": {
      "text/plain": [
       "[SystemMessage(content='Translate the following into Hindi:'),\n",
       " HumanMessage(content='Hi')]"
      ]
     },
     "execution_count": 24,
     "metadata": {},
     "output_type": "execute_result"
    }
   ],
   "source": [
    "#to access msg directly\n",
    "result.to_messages()"
   ]
  },
  {
   "cell_type": "markdown",
   "id": "d2a37181-63a9-475e-8f08-18ef4322d50e",
   "metadata": {},
   "source": [
    "#### chaining everything"
   ]
  },
  {
   "cell_type": "code",
   "execution_count": 25,
   "id": "53f7e4c3-bb9d-40d9-b173-313938c1476e",
   "metadata": {},
   "outputs": [
    {
     "data": {
      "text/plain": [
       "'Hello! In Hindi, \"Hi\" is translated as \"Namaste\" or \"Hello\" (informally).\\n\\nNote: \"Namaste\" is a traditional Indian greeting, while \"Hello\" is used in both formal and informal settings, similar to English.'"
      ]
     },
     "execution_count": 25,
     "metadata": {},
     "output_type": "execute_result"
    }
   ],
   "source": [
    "chain=prompt_template|model|parser\n",
    "\n",
    "chain.invoke({\"language\":\"hindi\",\"text\":\"Hi\"})"
   ]
  },
  {
   "cell_type": "markdown",
   "id": "ffdaa608-5034-41bf-aa7e-2d39cbbb9f8b",
   "metadata": {},
   "source": [
    "# Serving with LangServe"
   ]
  },
  {
   "cell_type": "code",
   "execution_count": null,
   "id": "d37e2801-038e-4717-8fd5-2fc9535e9bef",
   "metadata": {},
   "outputs": [],
   "source": [
    "pip install \"langserve[all]\""
   ]
  },
  {
   "cell_type": "code",
   "execution_count": 29,
   "id": "7cac9471-cfc7-4e6a-b1ac-d65d692d24e9",
   "metadata": {},
   "outputs": [],
   "source": [
    "## create a server file"
   ]
  },
  {
   "cell_type": "code",
   "execution_count": 34,
   "id": "a4a1f6fe-b95c-4152-a98c-cc55142dab77",
   "metadata": {},
   "outputs": [],
   "source": [
    "## run the file on cmd"
   ]
  },
  {
   "cell_type": "markdown",
   "id": "c64783ad-8127-4dc0-a4f4-5be655fcb14a",
   "metadata": {},
   "source": [
    "# Client"
   ]
  },
  {
   "cell_type": "code",
   "execution_count": 35,
   "id": "5559c358-fa39-4143-9519-ce6d769b6b17",
   "metadata": {},
   "outputs": [
    {
     "data": {
      "text/plain": [
       "'The word \"hi\" is a common greeting in English, similar to saying \"hello\" in English or \"namaste\" in Hindi. In Hindi, you can say \"hi\" as \"हाई\" (pronounced: hai). However, it\\'s worth noting that \"hi\" is not a commonly used greeting in Hindi, and you\\'re more likely to hear \"namaste\" or \"pranaam\" (a more formal greeting) in Hindi-speaking regions.'"
      ]
     },
     "execution_count": 35,
     "metadata": {},
     "output_type": "execute_result"
    }
   ],
   "source": [
    "from langserve import RemoteRunnable\n",
    "\n",
    "remote_chain = RemoteRunnable(\"http://localhost:8000/chain/\")\n",
    "remote_chain.invoke({\"language\": \"hindi\", \"text\": \"hi\"})"
   ]
  },
  {
   "cell_type": "code",
   "execution_count": null,
   "id": "c6994461-fafb-484d-b7d8-82b1e65f63a1",
   "metadata": {},
   "outputs": [],
   "source": []
  }
 ],
 "metadata": {
  "kernelspec": {
   "display_name": "langchain",
   "language": "python",
   "name": "langchain"
  },
  "language_info": {
   "codemirror_mode": {
    "name": "ipython",
    "version": 3
   },
   "file_extension": ".py",
   "mimetype": "text/x-python",
   "name": "python",
   "nbconvert_exporter": "python",
   "pygments_lexer": "ipython3",
   "version": "3.10.8"
  }
 },
 "nbformat": 4,
 "nbformat_minor": 5
}
