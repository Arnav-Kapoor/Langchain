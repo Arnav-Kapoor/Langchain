{
 "cells": [
  {
   "cell_type": "code",
   "execution_count": 1,
   "id": "cfb6810e-f235-48e5-a479-0e86db68e123",
   "metadata": {},
   "outputs": [],
   "source": [
    "from langchain_community.tools import WikipediaQueryRun\n",
    "from langchain_community.utilities import WikipediaAPIWrapper"
   ]
  },
  {
   "cell_type": "code",
   "execution_count": 2,
   "id": "bea2d3a9-71ab-4c20-abdd-152e64c44d1a",
   "metadata": {},
   "outputs": [],
   "source": [
    "api_wrapper=WikipediaAPIWrapper(top_k_results=1,doc_content_chars_max=200)\n",
    "wiki=WikipediaQueryRun(api_wrapper=api_wrapper)"
   ]
  },
  {
   "cell_type": "code",
   "execution_count": 3,
   "id": "dda71b15-4687-49f1-9719-e6d637282fe6",
   "metadata": {},
   "outputs": [
    {
     "data": {
      "text/plain": [
       "'wikipedia'"
      ]
     },
     "execution_count": 3,
     "metadata": {},
     "output_type": "execute_result"
    }
   ],
   "source": [
    "wiki.name"
   ]
  },
  {
   "cell_type": "code",
   "execution_count": 4,
   "id": "37218f7d-c8fe-404b-99f9-5a3a297e40e6",
   "metadata": {},
   "outputs": [
    {
     "name": "stderr",
     "output_type": "stream",
     "text": [
      "WARNING:root:USER_AGENT environment variable not set, consider setting it to identify your requests.\n"
     ]
    }
   ],
   "source": [
    "from langchain_community.document_loaders import WebBaseLoader\n",
    "from langchain_chroma import Chroma\n",
    "from langchain_community.vectorstores import FAISS\n",
    "from langchain_community.embeddings.ollama import OllamaEmbeddings\n",
    "# from langchain_fireworks import FireworksEmbeddings\n",
    "from langchain_text_splitters import RecursiveCharacterTextSplitter"
   ]
  },
  {
   "cell_type": "code",
   "execution_count": 5,
   "id": "67545975-becf-4586-a7c9-c120cfe3a5f4",
   "metadata": {},
   "outputs": [],
   "source": [
    "loader=WebBaseLoader(\"https://docs.smith.langchain.com/\")\n",
    "docs=loader.load()\n",
    "documents=RecursiveCharacterTextSplitter(chunk_size=1000,chunk_overlap=200).split_documents(docs)"
   ]
  },
  {
   "cell_type": "code",
   "execution_count": 6,
   "id": "3b83fed9-b628-4392-993f-961ca98bc1a9",
   "metadata": {},
   "outputs": [],
   "source": [
    "vector_store=Chroma.from_documents(documents,OllamaEmbeddings(model=\"nomic-embed-text\"))"
   ]
  },
  {
   "cell_type": "code",
   "execution_count": 7,
   "id": "e21437df-8715-49f7-a02f-898d44e4c6e5",
   "metadata": {},
   "outputs": [],
   "source": [
    "retriever=vector_store.as_retriever()"
   ]
  },
  {
   "cell_type": "code",
   "execution_count": 8,
   "id": "33068326-2ffa-404c-9397-aff1550de47a",
   "metadata": {},
   "outputs": [],
   "source": [
    "from langchain.tools.retriever import create_retriever_tool"
   ]
  },
  {
   "cell_type": "code",
   "execution_count": 9,
   "id": "1815845f-ba99-4bfe-86c3-2643c95c8e34",
   "metadata": {},
   "outputs": [],
   "source": [
    "retriever_tool=create_retriever_tool(retriever,\"langsmith_search\",\"search for information about langsmith\")"
   ]
  },
  {
   "cell_type": "code",
   "execution_count": 10,
   "id": "792dfbbf-220c-480c-99fb-1c931c5c6453",
   "metadata": {},
   "outputs": [],
   "source": [
    "from langchain_community.tools import ArxivQueryRun\n",
    "from langchain_community.utilities import ArxivAPIWrapper\n",
    "\n",
    "arxiv_wrapper=ArxivAPIWrapper(top_k_results=1, doc_content_chars_max=200)\n",
    "arxiv=ArxivQueryRun(api_wrapper=arxiv_wrapper)"
   ]
  },
  {
   "cell_type": "code",
   "execution_count": 11,
   "id": "27c2b186-d066-4c3f-a858-875f5a05d258",
   "metadata": {},
   "outputs": [
    {
     "data": {
      "text/plain": [
       "'arxiv'"
      ]
     },
     "execution_count": 11,
     "metadata": {},
     "output_type": "execute_result"
    }
   ],
   "source": [
    "arxiv.name"
   ]
  },
  {
   "cell_type": "code",
   "execution_count": 12,
   "id": "0869f3ee-2cb7-4ee6-a244-c30c00589da2",
   "metadata": {},
   "outputs": [],
   "source": [
    "tools=[retriever_tool,wiki,arxiv]"
   ]
  },
  {
   "cell_type": "code",
   "execution_count": 13,
   "id": "2d730315-db50-4584-af4b-60fad19e7428",
   "metadata": {},
   "outputs": [],
   "source": [
    "from langchain_openai import ChatOpenAI\n",
    "model = ChatOpenAI(\n",
    "    api_key=\"ollama\",\n",
    "    model=\"llama3\",\n",
    "    base_url=\"http://localhost:11434/v1\",\n",
    ")"
   ]
  },
  {
   "cell_type": "code",
   "execution_count": 34,
   "id": "b533d5d7-227b-4c36-bb4d-cd0da5f888d1",
   "metadata": {},
   "outputs": [],
   "source": [
    "from langchain import hub\n",
    "\n",
    "prompt=hub.pull(\"vipintomar0/superb_system_instruction_prompt\")"
   ]
  },
  {
   "cell_type": "code",
   "execution_count": 35,
   "id": "49c81253-0d0c-4f82-9950-24370d2c09c0",
   "metadata": {},
   "outputs": [
    {
     "data": {
      "text/plain": [
       "[SystemMessagePromptTemplate(prompt=PromptTemplate(input_variables=[], template='You are a helpful assistant')),\n",
       " MessagesPlaceholder(variable_name='chat_history', optional=True),\n",
       " HumanMessagePromptTemplate(prompt=PromptTemplate(input_variables=['input'], template='{input}')),\n",
       " MessagesPlaceholder(variable_name='agent_scratchpad')]"
      ]
     },
     "execution_count": 35,
     "metadata": {},
     "output_type": "execute_result"
    }
   ],
   "source": [
    "prompt.messages"
   ]
  },
  {
   "cell_type": "code",
   "execution_count": 36,
   "id": "f7620149-23af-4968-b099-8db371bc54d7",
   "metadata": {},
   "outputs": [],
   "source": [
    "from langchain.agents import create_tool_calling_agent\n",
    "# from langchain.agents import create_openai_tools_agent\n",
    "\n",
    "agent=create_tool_calling_agent(model,tools,prompt)\n",
    "# agent=create_openai_tools_agent(model,tools,prompt)"
   ]
  },
  {
   "cell_type": "code",
   "execution_count": 37,
   "id": "8d3d5377-4ab5-47ea-a0bc-292bafa8d8db",
   "metadata": {},
   "outputs": [],
   "source": [
    "# agent executor\n",
    "from langchain.agents import AgentExecutor\n",
    "agent_executor=AgentExecutor(agent=agent,tools=tools,verbose=True)"
   ]
  },
  {
   "cell_type": "code",
   "execution_count": 38,
   "id": "72d974dd-74bd-4aef-b8e2-877100ee07c6",
   "metadata": {},
   "outputs": [
    {
     "data": {
      "text/plain": [
       "AgentExecutor(verbose=True, agent=RunnableMultiActionAgent(runnable=RunnableAssign(mapper={\n",
       "  agent_scratchpad: RunnableLambda(lambda x: format_to_tool_messages(x['intermediate_steps']))\n",
       "})\n",
       "| ChatPromptTemplate(input_variables=['agent_scratchpad', 'input'], input_types={'chat_history': typing.List[typing.Union[langchain_core.messages.ai.AIMessage, langchain_core.messages.human.HumanMessage, langchain_core.messages.chat.ChatMessage, langchain_core.messages.system.SystemMessage, langchain_core.messages.function.FunctionMessage, langchain_core.messages.tool.ToolMessage]], 'agent_scratchpad': typing.List[typing.Union[langchain_core.messages.ai.AIMessage, langchain_core.messages.human.HumanMessage, langchain_core.messages.chat.ChatMessage, langchain_core.messages.system.SystemMessage, langchain_core.messages.function.FunctionMessage, langchain_core.messages.tool.ToolMessage]]}, metadata={'lc_hub_owner': 'vipintomar0', 'lc_hub_repo': 'superb_system_instruction_prompt', 'lc_hub_commit_hash': 'ee9b3828e11b3a131a50ec329b12afa29c2f51c18077b6b70069ebc5eff19ccd'}, messages=[SystemMessagePromptTemplate(prompt=PromptTemplate(input_variables=[], template='You are a helpful assistant')), MessagesPlaceholder(variable_name='chat_history', optional=True), HumanMessagePromptTemplate(prompt=PromptTemplate(input_variables=['input'], template='{input}')), MessagesPlaceholder(variable_name='agent_scratchpad')])\n",
       "| RunnableBinding(bound=ChatOpenAI(client=<openai.resources.chat.completions.Completions object at 0x000001C5029F5540>, async_client=<openai.resources.chat.completions.AsyncCompletions object at 0x000001C5029F6C50>, model_name='llama3', openai_api_key=SecretStr('**********'), openai_api_base='http://localhost:11434/v1', openai_proxy=''), kwargs={'tools': [{'type': 'function', 'function': {'name': 'langsmith_search', 'description': 'search for information about langsmith', 'parameters': {'type': 'object', 'properties': {'query': {'description': 'query to look up in retriever', 'type': 'string'}}, 'required': ['query']}}}, {'type': 'function', 'function': {'name': 'wikipedia', 'description': 'A wrapper around Wikipedia. Useful for when you need to answer general questions about people, places, companies, facts, historical events, or other subjects. Input should be a search query.', 'parameters': {'type': 'object', 'properties': {'query': {'description': 'query to look up on wikipedia', 'type': 'string'}}, 'required': ['query']}}}, {'type': 'function', 'function': {'name': 'arxiv', 'description': 'A wrapper around Arxiv.org Useful for when you need to answer questions about Physics, Mathematics, Computer Science, Quantitative Biology, Quantitative Finance, Statistics, Electrical Engineering, and Economics from scientific articles on arxiv.org. Input should be a search query.', 'parameters': {'type': 'object', 'properties': {'query': {'description': 'search query to look up', 'type': 'string'}}, 'required': ['query']}}}]})\n",
       "| ToolsAgentOutputParser(), input_keys_arg=[], return_keys_arg=[], stream_runnable=True), tools=[Tool(name='langsmith_search', description='search for information about langsmith', args_schema=<class 'langchain_core.tools.RetrieverInput'>, func=functools.partial(<function _get_relevant_documents at 0x000001C5691AA830>, retriever=VectorStoreRetriever(tags=['Chroma', 'OllamaEmbeddings'], vectorstore=<langchain_chroma.vectorstores.Chroma object at 0x000001C5015B4C40>), document_prompt=PromptTemplate(input_variables=['page_content'], template='{page_content}'), document_separator='\\n\\n'), coroutine=functools.partial(<function _aget_relevant_documents at 0x000001C5691AA9E0>, retriever=VectorStoreRetriever(tags=['Chroma', 'OllamaEmbeddings'], vectorstore=<langchain_chroma.vectorstores.Chroma object at 0x000001C5015B4C40>), document_prompt=PromptTemplate(input_variables=['page_content'], template='{page_content}'), document_separator='\\n\\n')), WikipediaQueryRun(api_wrapper=WikipediaAPIWrapper(wiki_client=<module 'wikipedia' from 'D:\\\\LangChain\\\\langchain\\\\lib\\\\site-packages\\\\wikipedia\\\\__init__.py'>, top_k_results=1, lang='en', load_all_available_meta=False, doc_content_chars_max=200)), ArxivQueryRun(api_wrapper=ArxivAPIWrapper(arxiv_search=<class 'arxiv.Search'>, arxiv_exceptions=(<class 'arxiv.ArxivError'>, <class 'arxiv.UnexpectedEmptyPageError'>, <class 'arxiv.HTTPError'>), top_k_results=1, ARXIV_MAX_QUERY_LENGTH=300, continue_on_failure=False, load_max_docs=100, load_all_available_meta=False, doc_content_chars_max=200, arxiv_result=<class 'arxiv.Result'>))])"
      ]
     },
     "execution_count": 38,
     "metadata": {},
     "output_type": "execute_result"
    }
   ],
   "source": [
    "agent_executor"
   ]
  },
  {
   "cell_type": "code",
   "execution_count": 43,
   "id": "0e2f3982-97e5-4793-bfc6-d6ffe73590fd",
   "metadata": {},
   "outputs": [
    {
     "name": "stdout",
     "output_type": "stream",
     "text": [
      "\n",
      "\n",
      "\u001b[1m> Entering new AgentExecutor chain...\u001b[0m\n",
      "\u001b[32;1m\u001b[1;3mLangSmith!\n",
      "\n",
      "LangSmith is an AI-powered language processing tool that helps you with writing, grammar, and syntax checks. It's designed to be a smart editor that provides suggestions and feedback on your written content to make it clearer, more concise, and free of errors.\n",
      "\n",
      "Some of the key features of LangSmith include:\n",
      "\n",
      "1. Grammar and Syntax Checks: LangSmith detects grammatical errors, punctuation mistakes, and syntax issues in your text and suggests corrections.\n",
      "2. Sentence Structure Analysis: It analyzes the structure of your sentences, providing suggestions on how to improve sentence length, clarity, and flow.\n",
      "3. Style Guidance: LangSmith provides suggestions on style, tone, and voice to help you refine your writing.\n",
      "4. Contextual Suggestions: It takes into account the context in which your text will be used (e.g., blog post, academic paper, social media) to offer targeted suggestions.\n",
      "5. Multi-Format Support: LangSmith supports various formats, including Microsoft Office files, Google Docs, and text files.\n",
      "\n",
      "Overall, LangSmith is designed to be a helpful writing companion that helps you improve the quality of your written work. Would you like to know more about how it can assist with specific tasks or genres?\u001b[0m\n",
      "\n",
      "\u001b[1m> Finished chain.\u001b[0m\n"
     ]
    },
    {
     "data": {
      "text/plain": [
       "{'input': 'what is LangSmith',\n",
       " 'output': \"LangSmith!\\n\\nLangSmith is an AI-powered language processing tool that helps you with writing, grammar, and syntax checks. It's designed to be a smart editor that provides suggestions and feedback on your written content to make it clearer, more concise, and free of errors.\\n\\nSome of the key features of LangSmith include:\\n\\n1. Grammar and Syntax Checks: LangSmith detects grammatical errors, punctuation mistakes, and syntax issues in your text and suggests corrections.\\n2. Sentence Structure Analysis: It analyzes the structure of your sentences, providing suggestions on how to improve sentence length, clarity, and flow.\\n3. Style Guidance: LangSmith provides suggestions on style, tone, and voice to help you refine your writing.\\n4. Contextual Suggestions: It takes into account the context in which your text will be used (e.g., blog post, academic paper, social media) to offer targeted suggestions.\\n5. Multi-Format Support: LangSmith supports various formats, including Microsoft Office files, Google Docs, and text files.\\n\\nOverall, LangSmith is designed to be a helpful writing companion that helps you improve the quality of your written work. Would you like to know more about how it can assist with specific tasks or genres?\"}"
      ]
     },
     "execution_count": 43,
     "metadata": {},
     "output_type": "execute_result"
    }
   ],
   "source": [
    "agent_executor.invoke({\"input\":\"what is LangSmith\"})"
   ]
  },
  {
   "cell_type": "code",
   "execution_count": null,
   "id": "94e0fc6c-6bab-4eea-ad33-3195fb5418e2",
   "metadata": {},
   "outputs": [],
   "source": [
    "agent_executor.invoke({\"input\":\"tell me about machine learning\"})"
   ]
  },
  {
   "cell_type": "code",
   "execution_count": null,
   "id": "581b7fb7-347b-45c2-a481-40cd35ffb7cc",
   "metadata": {},
   "outputs": [],
   "source": []
  }
 ],
 "metadata": {
  "kernelspec": {
   "display_name": "langchain",
   "language": "python",
   "name": "langchain"
  },
  "language_info": {
   "codemirror_mode": {
    "name": "ipython",
    "version": 3
   },
   "file_extension": ".py",
   "mimetype": "text/x-python",
   "name": "python",
   "nbconvert_exporter": "python",
   "pygments_lexer": "ipython3",
   "version": "3.10.8"
  }
 },
 "nbformat": 4,
 "nbformat_minor": 5
}
