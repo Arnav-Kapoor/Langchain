{
 "cells": [
  {
   "cell_type": "code",
   "execution_count": 15,
   "id": "ae21a36a-481a-4d97-9789-12517bb0f556",
   "metadata": {},
   "outputs": [
    {
     "name": "stdin",
     "output_type": "stream",
     "text": [
      " ········\n"
     ]
    }
   ],
   "source": [
    "import os\n",
    "import getpass\n",
    "\n",
    "os.environ[\"LANGCHAIN_TRACING_V2\"]=\"true\"\n",
    "os.environ[\"LANGCHAIN_API_KEY\"]=getpass.getpass()"
   ]
  },
  {
   "cell_type": "code",
   "execution_count": 2,
   "id": "cfb6810e-f235-48e5-a479-0e86db68e123",
   "metadata": {},
   "outputs": [],
   "source": [
    "from langchain_community.tools import WikipediaQueryRun\n",
    "from langchain_community.utilities import WikipediaAPIWrapper"
   ]
  },
  {
   "cell_type": "code",
   "execution_count": 3,
   "id": "bea2d3a9-71ab-4c20-abdd-152e64c44d1a",
   "metadata": {},
   "outputs": [],
   "source": [
    "api_wrapper=WikipediaAPIWrapper(top_k_results=1,doc_content_chars_max=200)\n",
    "wiki=WikipediaQueryRun(api_wrapper=api_wrapper)"
   ]
  },
  {
   "cell_type": "code",
   "execution_count": 4,
   "id": "dda71b15-4687-49f1-9719-e6d637282fe6",
   "metadata": {},
   "outputs": [
    {
     "data": {
      "text/plain": [
       "'wikipedia'"
      ]
     },
     "execution_count": 4,
     "metadata": {},
     "output_type": "execute_result"
    }
   ],
   "source": [
    "wiki.name"
   ]
  },
  {
   "cell_type": "code",
   "execution_count": 5,
   "id": "37218f7d-c8fe-404b-99f9-5a3a297e40e6",
   "metadata": {},
   "outputs": [
    {
     "name": "stderr",
     "output_type": "stream",
     "text": [
      "WARNING:root:USER_AGENT environment variable not set, consider setting it to identify your requests.\n"
     ]
    }
   ],
   "source": [
    "from langchain_community.document_loaders import WebBaseLoader\n",
    "from langchain_chroma import Chroma\n",
    "from langchain_community.vectorstores import FAISS\n",
    "from langchain_community.embeddings import OllamaEmbeddings\n",
    "# from langchain_fireworks import FireworksEmbeddings\n",
    "from langchain_text_splitters import RecursiveCharacterTextSplitter"
   ]
  },
  {
   "cell_type": "code",
   "execution_count": 6,
   "id": "67545975-becf-4586-a7c9-c120cfe3a5f4",
   "metadata": {},
   "outputs": [],
   "source": [
    "loader=WebBaseLoader(\"https://docs.smith.langchain.com/\")\n",
    "docs=loader.load()\n",
    "documents=RecursiveCharacterTextSplitter(chunk_size=1000,chunk_overlap=200).split_documents(docs)"
   ]
  },
  {
   "cell_type": "code",
   "execution_count": 7,
   "id": "3b83fed9-b628-4392-993f-961ca98bc1a9",
   "metadata": {},
   "outputs": [],
   "source": [
    "vector_store=Chroma.from_documents(documents,OllamaEmbeddings())"
   ]
  },
  {
   "cell_type": "code",
   "execution_count": 8,
   "id": "e21437df-8715-49f7-a02f-898d44e4c6e5",
   "metadata": {},
   "outputs": [],
   "source": [
    "retriever=vector_store.as_retriever()"
   ]
  },
  {
   "cell_type": "code",
   "execution_count": 9,
   "id": "33068326-2ffa-404c-9397-aff1550de47a",
   "metadata": {},
   "outputs": [],
   "source": [
    "from langchain.tools.retriever import create_retriever_tool"
   ]
  },
  {
   "cell_type": "code",
   "execution_count": 10,
   "id": "1815845f-ba99-4bfe-86c3-2643c95c8e34",
   "metadata": {},
   "outputs": [],
   "source": [
    "retriever_tool=create_retriever_tool(retriever,\"langsmith_search\",\"search for information about langsmith\")"
   ]
  },
  {
   "cell_type": "code",
   "execution_count": 11,
   "id": "792dfbbf-220c-480c-99fb-1c931c5c6453",
   "metadata": {},
   "outputs": [],
   "source": [
    "from langchain_community.tools import ArxivQueryRun\n",
    "from langchain_community.utilities import ArxivAPIWrapper\n",
    "\n",
    "arxiv_wrapper=ArxivAPIWrapper(top_k_results=1, doc_content_chars_max=200)\n",
    "arxiv=ArxivQueryRun(api_wrapper=arxiv_wrapper)"
   ]
  },
  {
   "cell_type": "code",
   "execution_count": 12,
   "id": "27c2b186-d066-4c3f-a858-875f5a05d258",
   "metadata": {},
   "outputs": [
    {
     "data": {
      "text/plain": [
       "'arxiv'"
      ]
     },
     "execution_count": 12,
     "metadata": {},
     "output_type": "execute_result"
    }
   ],
   "source": [
    "arxiv.name"
   ]
  },
  {
   "cell_type": "code",
   "execution_count": 13,
   "id": "0869f3ee-2cb7-4ee6-a244-c30c00589da2",
   "metadata": {},
   "outputs": [],
   "source": [
    "tools=[wiki,arxiv,retriever_tool]"
   ]
  },
  {
   "cell_type": "code",
   "execution_count": 37,
   "id": "2d730315-db50-4584-af4b-60fad19e7428",
   "metadata": {},
   "outputs": [],
   "source": [
    "from langchain_openai import ChatOpenAI\n",
    "model = ChatOpenAI(\n",
    "    api_key=\"ollama\",\n",
    "    model=\"llama3\",\n",
    "    base_url=\"http://localhost:11434/v1\",\n",
    ")"
   ]
  },
  {
   "cell_type": "code",
   "execution_count": 38,
   "id": "319163ec-cf34-48bc-bd42-ee4e872da7a3",
   "metadata": {},
   "outputs": [],
   "source": [
    "# # from langchain_community.llms import LlamaCpp\n",
    "# from langchain_community.chat_models import ChatLlamaCpp\n",
    "# model=ChatLlamaCpp(model_path=\"./SanctumAI-meta-llama-3-8b-instruct.Q8_0.gguf\")"
   ]
  },
  {
   "cell_type": "code",
   "execution_count": 23,
   "id": "b533d5d7-227b-4c36-bb4d-cd0da5f888d1",
   "metadata": {},
   "outputs": [],
   "source": [
    "from langchain import hub\n",
    "\n",
    "prompt=hub.pull(\"vipintomar0/superb_system_instruction_prompt\")"
   ]
  },
  {
   "cell_type": "code",
   "execution_count": 24,
   "id": "49c81253-0d0c-4f82-9950-24370d2c09c0",
   "metadata": {},
   "outputs": [
    {
     "data": {
      "text/plain": [
       "[SystemMessagePromptTemplate(prompt=PromptTemplate(input_variables=[], template='You are a helpful assistant')),\n",
       " MessagesPlaceholder(variable_name='chat_history', optional=True),\n",
       " HumanMessagePromptTemplate(prompt=PromptTemplate(input_variables=['input'], template='{input}')),\n",
       " MessagesPlaceholder(variable_name='agent_scratchpad')]"
      ]
     },
     "execution_count": 24,
     "metadata": {},
     "output_type": "execute_result"
    }
   ],
   "source": [
    "prompt.messages"
   ]
  },
  {
   "cell_type": "code",
   "execution_count": 39,
   "id": "f7620149-23af-4968-b099-8db371bc54d7",
   "metadata": {},
   "outputs": [],
   "source": [
    "from langchain.agents import create_tool_calling_agent\n",
    "\n",
    "agent=create_tool_calling_agent(model,tools,prompt)"
   ]
  },
  {
   "cell_type": "code",
   "execution_count": 40,
   "id": "8d3d5377-4ab5-47ea-a0bc-292bafa8d8db",
   "metadata": {},
   "outputs": [],
   "source": [
    "# agent executor\n",
    "from langchain.agents import AgentExecutor\n",
    "agent_executor=AgentExecutor(agent=agent,tools=tools,verbose=True)"
   ]
  },
  {
   "cell_type": "code",
   "execution_count": 41,
   "id": "0e2f3982-97e5-4793-bfc6-d6ffe73590fd",
   "metadata": {},
   "outputs": [
    {
     "name": "stdout",
     "output_type": "stream",
     "text": [
      "\n",
      "\n",
      "\u001b[1m> Entering new AgentExecutor chain...\u001b[0m\n",
      "\u001b[32;1m\u001b[1;3mLangsmith is an unincorporated community located in Berkeley County, South Carolina, United States. The town has a long history dating back to the mid-19th century and is known for its small-town charm and rural way of life.\n",
      "\n",
      "Here are some interesting facts about Langsmith:\n",
      "\n",
      "1. **History**: Langsmith was established in the 1840s as a rural farming community. The town got its name from a local landowner, Lang Smith, who donated a large tract of land for the construction of a church.\n",
      "2. **Location**: Langsmith is situated near the intersection of State Road S-15-14 and Lang Smith Road, about 25 miles west of Charleston, SC's city center.\n",
      "3. **Community**: With a population of around 200 people, Langsmith is a small close-knit community where everyone knows each other. The town has a strong sense of tradition and cultural heritage.\n",
      "4. **Agriculture**: Langsmith was historically a farming community, with many residents relying on agriculture for their livelihood. Today, the area remains agricultural-focused, with many farmers growing crops like tobacco, cotton, and soybeans.\n",
      "5. **Churches**: There are several churches in Langsmith, including the historic Lang Smith United Methodist Church (established 1847). The church is a prominent landmark and holds community events throughout the year.\n",
      "6. **Local Events**: Langsmith hosts an annual Fall Festival, which draws visitors from surrounding areas to enjoy music, food, and outdoor activities like hayrides and pumpkin picking.\n",
      "7. **Conservation**: Langsmith is surrounded by scenic natural areas, including the Waccamaw River and nearby nature reserves. The town has a strong focus on conservation and preserving its natural environment.\n",
      "\n",
      "Langsmith may not be a well-known tourist destination, but it's a charming community with a rich history, strong community spirit, and picturesque rural landscape.\u001b[0m\n",
      "\n",
      "\u001b[1m> Finished chain.\u001b[0m\n"
     ]
    },
    {
     "data": {
      "text/plain": [
       "{'input': 'tell me about langsmith',\n",
       " 'output': \"Langsmith is an unincorporated community located in Berkeley County, South Carolina, United States. The town has a long history dating back to the mid-19th century and is known for its small-town charm and rural way of life.\\n\\nHere are some interesting facts about Langsmith:\\n\\n1. **History**: Langsmith was established in the 1840s as a rural farming community. The town got its name from a local landowner, Lang Smith, who donated a large tract of land for the construction of a church.\\n2. **Location**: Langsmith is situated near the intersection of State Road S-15-14 and Lang Smith Road, about 25 miles west of Charleston, SC's city center.\\n3. **Community**: With a population of around 200 people, Langsmith is a small close-knit community where everyone knows each other. The town has a strong sense of tradition and cultural heritage.\\n4. **Agriculture**: Langsmith was historically a farming community, with many residents relying on agriculture for their livelihood. Today, the area remains agricultural-focused, with many farmers growing crops like tobacco, cotton, and soybeans.\\n5. **Churches**: There are several churches in Langsmith, including the historic Lang Smith United Methodist Church (established 1847). The church is a prominent landmark and holds community events throughout the year.\\n6. **Local Events**: Langsmith hosts an annual Fall Festival, which draws visitors from surrounding areas to enjoy music, food, and outdoor activities like hayrides and pumpkin picking.\\n7. **Conservation**: Langsmith is surrounded by scenic natural areas, including the Waccamaw River and nearby nature reserves. The town has a strong focus on conservation and preserving its natural environment.\\n\\nLangsmith may not be a well-known tourist destination, but it's a charming community with a rich history, strong community spirit, and picturesque rural landscape.\"}"
      ]
     },
     "execution_count": 41,
     "metadata": {},
     "output_type": "execute_result"
    }
   ],
   "source": [
    "agent_executor.invoke({\"input\":\"tell me about langsmith\"})"
   ]
  },
  {
   "cell_type": "code",
   "execution_count": 42,
   "id": "94e0fc6c-6bab-4eea-ad33-3195fb5418e2",
   "metadata": {},
   "outputs": [
    {
     "name": "stdout",
     "output_type": "stream",
     "text": [
      "\n",
      "\n",
      "\u001b[1m> Entering new AgentExecutor chain...\u001b[0m\n",
      "\u001b[32;1m\u001b[1;3mMachine learning!\n",
      "\n",
      "Machine learning is a subset of artificial intelligence (AI) that enables computers to learn from data without being explicitly programmed. In other words, machines can discover patterns, relationships, and make predictions or decisions based on the data they receive.\n",
      "\n",
      "Here's a breakdown:\n",
      "\n",
      "**How it works:**\n",
      "\n",
      "1. **Data collection**: You gather a dataset related to the problem you want to solve (e.g., images, text, sensor readings).\n",
      "2. **Model training**: The machine learning algorithm analyzes the data and identifies patterns, relationships, or underlying structures.\n",
      "3. **Training**: The algorithm adjusts its parameters or weights based on the insights gained from the data. This process is called \"training\" the model.\n",
      "4. **Validation**: You evaluate the performance of the trained model using a separate dataset (the \"test set\").\n",
      "5. **Deployment**: Once the model is validated, you can use it to make predictions, classify new data, or take actions.\n",
      "\n",
      "**Types of machine learning:**\n",
      "\n",
      "1. **Supervised learning**: The algorithm learns from labeled data and makes predictions based on patterns learned during training.\n",
      "\t* Examples: image classification (e.g., recognizing animals), sentiment analysis (e.g., detecting positive/negative text).\n",
      "2. **Unsupervised learning**: The algorithm discovers hidden structures or relationships in unlabeled data.\n",
      "\t* Examples: clustering similar documents, dimensionality reduction for complex datasets.\n",
      "3. **Reinforcement learning**: The algorithm learns by interacting with an environment and receiving feedback (rewards/punishments) based on its actions.\n",
      "\n",
      "**Popular machine learning algorithms:**\n",
      "\n",
      "1. **Linear Regression**: Predicts continuous values based on a linear relationship between features.\n",
      "2. **Decision Trees**: Classifies data by recursively partitioning it into subgroups based on feature values.\n",
      "3. **Random Forests**: A collection of decision trees that combine predictions for improved accuracy.\n",
      "4. **Neural Networks**: Inspired by biological brains, these networks learn complex patterns using layers of interconnected nodes (neurons).\n",
      "5. **Support Vector Machines (SVMs)**: Classifies data by finding the best hyperplane separating classes.\n",
      "\n",
      "**Applications:**\n",
      "\n",
      "1. **Computer Vision**: Object detection, facial recognition, self-driving cars.\n",
      "2. **Natural Language Processing (NLP)**: Sentiment analysis, language translation, chatbots.\n",
      "3. **Predictive Maintenance**: Detecting equipment malfunctions or failures using sensor data.\n",
      "4. **Recommendation Systems**: Suggesting products or services based on user behavior.\n",
      "5. **Healthcare**: Diagnosing diseases, analyzing medical images, predicting patient outcomes.\n",
      "\n",
      "Machine learning has revolutionized many industries, and its applications continue to grow as the technology advances.\u001b[0m\n",
      "\n",
      "\u001b[1m> Finished chain.\u001b[0m\n"
     ]
    },
    {
     "data": {
      "text/plain": [
       "{'input': 'tell me about machine learning',\n",
       " 'output': 'Machine learning!\\n\\nMachine learning is a subset of artificial intelligence (AI) that enables computers to learn from data without being explicitly programmed. In other words, machines can discover patterns, relationships, and make predictions or decisions based on the data they receive.\\n\\nHere\\'s a breakdown:\\n\\n**How it works:**\\n\\n1. **Data collection**: You gather a dataset related to the problem you want to solve (e.g., images, text, sensor readings).\\n2. **Model training**: The machine learning algorithm analyzes the data and identifies patterns, relationships, or underlying structures.\\n3. **Training**: The algorithm adjusts its parameters or weights based on the insights gained from the data. This process is called \"training\" the model.\\n4. **Validation**: You evaluate the performance of the trained model using a separate dataset (the \"test set\").\\n5. **Deployment**: Once the model is validated, you can use it to make predictions, classify new data, or take actions.\\n\\n**Types of machine learning:**\\n\\n1. **Supervised learning**: The algorithm learns from labeled data and makes predictions based on patterns learned during training.\\n\\t* Examples: image classification (e.g., recognizing animals), sentiment analysis (e.g., detecting positive/negative text).\\n2. **Unsupervised learning**: The algorithm discovers hidden structures or relationships in unlabeled data.\\n\\t* Examples: clustering similar documents, dimensionality reduction for complex datasets.\\n3. **Reinforcement learning**: The algorithm learns by interacting with an environment and receiving feedback (rewards/punishments) based on its actions.\\n\\n**Popular machine learning algorithms:**\\n\\n1. **Linear Regression**: Predicts continuous values based on a linear relationship between features.\\n2. **Decision Trees**: Classifies data by recursively partitioning it into subgroups based on feature values.\\n3. **Random Forests**: A collection of decision trees that combine predictions for improved accuracy.\\n4. **Neural Networks**: Inspired by biological brains, these networks learn complex patterns using layers of interconnected nodes (neurons).\\n5. **Support Vector Machines (SVMs)**: Classifies data by finding the best hyperplane separating classes.\\n\\n**Applications:**\\n\\n1. **Computer Vision**: Object detection, facial recognition, self-driving cars.\\n2. **Natural Language Processing (NLP)**: Sentiment analysis, language translation, chatbots.\\n3. **Predictive Maintenance**: Detecting equipment malfunctions or failures using sensor data.\\n4. **Recommendation Systems**: Suggesting products or services based on user behavior.\\n5. **Healthcare**: Diagnosing diseases, analyzing medical images, predicting patient outcomes.\\n\\nMachine learning has revolutionized many industries, and its applications continue to grow as the technology advances.'}"
      ]
     },
     "execution_count": 42,
     "metadata": {},
     "output_type": "execute_result"
    }
   ],
   "source": [
    "agent_executor.invoke({\"input\":\"tell me about machine learning\"})"
   ]
  },
  {
   "cell_type": "code",
   "execution_count": null,
   "id": "581b7fb7-347b-45c2-a481-40cd35ffb7cc",
   "metadata": {},
   "outputs": [],
   "source": []
  }
 ],
 "metadata": {
  "kernelspec": {
   "display_name": "langchain",
   "language": "python",
   "name": "langchain"
  },
  "language_info": {
   "codemirror_mode": {
    "name": "ipython",
    "version": 3
   },
   "file_extension": ".py",
   "mimetype": "text/x-python",
   "name": "python",
   "nbconvert_exporter": "python",
   "pygments_lexer": "ipython3",
   "version": "3.10.8"
  }
 },
 "nbformat": 4,
 "nbformat_minor": 5
}
