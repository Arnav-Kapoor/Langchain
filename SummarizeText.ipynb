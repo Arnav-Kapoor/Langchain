{
 "cells": [
  {
   "cell_type": "markdown",
   "id": "b0e91091-5440-47da-b646-b2f06bd918d4",
   "metadata": {},
   "source": [
    "# 1. Stuff method"
   ]
  },
  {
   "cell_type": "code",
   "execution_count": 1,
   "id": "99a5c44f-e5e0-43b5-a3e9-8fb99ad0d34b",
   "metadata": {},
   "outputs": [],
   "source": [
    "from langchain.chains.combine_documents.stuff import StuffDocumentsChain\n",
    "from langchain.prompts import PromptTemplate\n",
    "from langchain.chains.llm import LLMChain"
   ]
  },
  {
   "cell_type": "code",
   "execution_count": 10,
   "id": "e2f228de-c262-4fd8-8e40-568031a3df53",
   "metadata": {},
   "outputs": [],
   "source": [
    "prompt_template=\"\"\" Write a concise summary for the following:\n",
    "                    {text}\n",
    "                    CONCISE SUMMARY: \"\"\"\n",
    "\n",
    "prompt=PromptTemplate.from_template(prompt_template)"
   ]
  },
  {
   "cell_type": "code",
   "execution_count": 3,
   "id": "f4c3e04d-ba0f-4fa6-bd65-36eaf25a31b5",
   "metadata": {},
   "outputs": [
    {
     "name": "stderr",
     "output_type": "stream",
     "text": [
      "WARNING:root:USER_AGENT environment variable not set, consider setting it to identify your requests.\n"
     ]
    }
   ],
   "source": [
    "from langchain.chains.summarize import load_summarize_chain\n",
    "from langchain_community.llms import Ollama\n",
    "from langchain.document_loaders import WebBaseLoader"
   ]
  },
  {
   "cell_type": "code",
   "execution_count": 4,
   "id": "599d781c-15a8-467e-bdaf-85e2f3194cea",
   "metadata": {},
   "outputs": [],
   "source": [
    "loader=WebBaseLoader(web_path=\"https://lilianweng.github.io/posts/2023-06-23-agent/\")\n",
    "docs=loader.load()\n",
    "\n",
    "llm=Ollama(model=\"llama3\")"
   ]
  },
  {
   "cell_type": "code",
   "execution_count": 11,
   "id": "efc46c5d-54da-4044-842e-329e6179f7a7",
   "metadata": {},
   "outputs": [],
   "source": [
    "llm_chain=LLMChain(llm=llm,prompt=prompt)"
   ]
  },
  {
   "cell_type": "code",
   "execution_count": 12,
   "id": "f8d0af22-ac0d-42b3-b9e3-688d619cdf6a",
   "metadata": {},
   "outputs": [],
   "source": [
    "stuff_chain=StuffDocumentsChain(llm_chain=llm_chain,document_variable_name=\"text\")"
   ]
  },
  {
   "cell_type": "code",
   "execution_count": 13,
   "id": "c3779fcd-3f46-4930-aa1c-402e21afb03e",
   "metadata": {},
   "outputs": [
    {
     "name": "stdout",
     "output_type": "stream",
     "text": [
      "Here is a concise summary:\n",
      "\n",
      "The post discusses the challenges and limitations of building LLM-powered autonomous agents. The main challenges include:\n",
      "\n",
      "1. Finite context length, which limits the inclusion of historical information and detailed instructions.\n",
      "2. Limited long-term planning and task decomposition, making it difficult to adjust plans when faced with unexpected errors.\n",
      "3. Unreliability of natural language interfaces, which may lead to formatting errors or rebellious behavior.\n",
      "\n",
      "The post also references various papers and studies on topics such as chain-of-thought prompting, hindsight alignment, and optimal planning proficiency.\n"
     ]
    }
   ],
   "source": [
    "print(stuff_chain.invoke(docs)[\"output_text\"])"
   ]
  },
  {
   "cell_type": "code",
   "execution_count": 15,
   "id": "45344c92-3000-4ff6-b3a0-df953dd7bdd8",
   "metadata": {},
   "outputs": [],
   "source": [
    "#load_summarize_chain(llm, chain_type=\"stuff\").invoke(docs)[\"output_text\"] this all can be done using this"
   ]
  },
  {
   "cell_type": "markdown",
   "id": "60f05103-978d-471e-8099-7a9872ba2432",
   "metadata": {},
   "source": [
    "# 2. Map-Reduce method"
   ]
  },
  {
   "cell_type": "code",
   "execution_count": 29,
   "id": "2ba6fa0f-fbb7-41e9-91c2-b5274a703e20",
   "metadata": {},
   "outputs": [],
   "source": [
    "from langchain.chains import MapReduceDocumentsChain, ReduceDocumentsChain\n",
    "from langchain.text_splitter import CharacterTextSplitter"
   ]
  },
  {
   "cell_type": "code",
   "execution_count": 17,
   "id": "a1c04db8-c9c1-46e6-92dc-0027806fc60c",
   "metadata": {},
   "outputs": [],
   "source": [
    "map_template=\"\"\"The following is a set of documents.\n",
    "                {docs}\n",
    "                Based on the list identify their main themes. \"\"\"\n",
    "map_prompt=PromptTemplate.from_template(map_template)\n",
    "map_llm_chain=LLMChain(llm=llm,prompt=map_prompt)"
   ]
  },
  {
   "cell_type": "code",
   "execution_count": 19,
   "id": "e909b9f5-9ecf-4dd5-99b4-324f23656f6e",
   "metadata": {},
   "outputs": [],
   "source": [
    "reduce_template=\"\"\"The following is set of summaries:\n",
    "{docs}\n",
    "Take these and distill it into a final, consolidated summary of the main themes.\"\"\"\n",
    "\n",
    "reduce_prompt=PromptTemplate.from_template(reduce_template)"
   ]
  },
  {
   "cell_type": "code",
   "execution_count": 20,
   "id": "9aa850fa-0a21-4aee-b91c-c2ab5bb39b86",
   "metadata": {},
   "outputs": [],
   "source": [
    "reduce_chain=LLMChain(llm=llm,prompt=reduce_prompt)"
   ]
  },
  {
   "cell_type": "code",
   "execution_count": 21,
   "id": "cd40e3a1-fd98-4ab3-86a3-9bed8be597de",
   "metadata": {},
   "outputs": [],
   "source": [
    "combine_document_chain=StuffDocumentsChain(llm_chain=reduce_chain,document_variable_name=\"docs\")"
   ]
  },
  {
   "cell_type": "code",
   "execution_count": 35,
   "id": "dee9a5ba-31f7-4a91-9cf6-a2d8a499d1c0",
   "metadata": {},
   "outputs": [],
   "source": [
    "reduce_documents_chain=ReduceDocumentsChain(combine_documents_chain=combine_document_chain,\n",
    "                                            collapse_documents_chain=combine_document_chain, token_max=2000)"
   ]
  },
  {
   "cell_type": "code",
   "execution_count": 36,
   "id": "69bd0933-8ac0-4aa0-b669-f8b7b950f8ba",
   "metadata": {},
   "outputs": [],
   "source": [
    "map_reduce_chain=MapReduceDocumentsChain(llm_chain=map_llm_chain,reduce_documents_chain=reduce_documents_chain, \n",
    "                                        document_variable_name='docs', return_intermediate_steps=False)"
   ]
  },
  {
   "cell_type": "code",
   "execution_count": 37,
   "id": "f0ace292-2631-4493-8056-1b2ae91f90cc",
   "metadata": {},
   "outputs": [],
   "source": [
    "text_splitter=CharacterTextSplitter.from_tiktoken_encoder(chunk_size=1000,chunk_overlap=0)"
   ]
  },
  {
   "cell_type": "code",
   "execution_count": 38,
   "id": "e57bdc7e-2a4d-42c1-bba1-4ecaec43349c",
   "metadata": {},
   "outputs": [
    {
     "name": "stderr",
     "output_type": "stream",
     "text": [
      "WARNING:langchain_text_splitters.base:Created a chunk of size 1003, which is longer than the specified 1000\n"
     ]
    }
   ],
   "source": [
    "split_docs=text_splitter.split_documents(docs)"
   ]
  },
  {
   "cell_type": "code",
   "execution_count": null,
   "id": "67014a71-c5b2-4055-b4fc-ca06113ca243",
   "metadata": {},
   "outputs": [],
   "source": [
    "result=map_reduce_chain.invoke(split_docs)"
   ]
  },
  {
   "cell_type": "code",
   "execution_count": null,
   "id": "93613a77-0cbc-44fa-a630-9ba874acbd49",
   "metadata": {},
   "outputs": [],
   "source": [
    "print(result[\"output_text\"])"
   ]
  },
  {
   "cell_type": "code",
   "execution_count": null,
   "id": "bf6522fc-4497-4945-8930-40634645c3d7",
   "metadata": {},
   "outputs": [],
   "source": []
  }
 ],
 "metadata": {
  "kernelspec": {
   "display_name": "langchain",
   "language": "python",
   "name": "langchain"
  },
  "language_info": {
   "codemirror_mode": {
    "name": "ipython",
    "version": 3
   },
   "file_extension": ".py",
   "mimetype": "text/x-python",
   "name": "python",
   "nbconvert_exporter": "python",
   "pygments_lexer": "ipython3",
   "version": "3.10.8"
  }
 },
 "nbformat": 4,
 "nbformat_minor": 5
}
