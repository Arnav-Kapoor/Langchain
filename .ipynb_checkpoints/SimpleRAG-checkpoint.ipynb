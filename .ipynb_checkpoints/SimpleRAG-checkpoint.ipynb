{
 "cells": [
  {
   "cell_type": "code",
   "execution_count": 14,
   "id": "f27bc086-f299-480c-b50e-0065763dd9d4",
   "metadata": {},
   "outputs": [
    {
     "name": "stdin",
     "output_type": "stream",
     "text": [
      " ········\n",
      " ········\n"
     ]
    }
   ],
   "source": [
    "import os\n",
    "import getpass\n",
    "\n",
    "os.environ[\"LANGCHAIN_API_KEY\"]=getpass.getpass()\n",
    "os.environ[\"LANGCHAIN_TRACING_V2\"]=\"true\"\n",
    "os.environ[\"FIREWORKS_API_KEY\"]=getpass.getpass()"
   ]
  },
  {
   "cell_type": "code",
   "execution_count": 15,
   "id": "f106b59d-1c6f-4788-ae5d-981118211b46",
   "metadata": {},
   "outputs": [],
   "source": [
    "from langchain_fireworks import ChatFireworks\n",
    "model=ChatFireworks(model=\"accounts/fireworks/models/mixtral-8x7b-instruct\")"
   ]
  },
  {
   "cell_type": "markdown",
   "id": "6d2bdf4d-8925-4a6c-b072-98901f95aa56",
   "metadata": {},
   "source": [
    "# Data ingestion"
   ]
  },
  {
   "cell_type": "markdown",
   "id": "4bfde08e-1ab8-4b05-89b4-6d9308686efb",
   "metadata": {},
   "source": [
    "## Text document"
   ]
  },
  {
   "cell_type": "code",
   "execution_count": 10,
   "id": "beac095e-7166-425d-bdf2-050a9b9da70e",
   "metadata": {},
   "outputs": [],
   "source": [
    "from langchain_community.document_loaders import TextLoader\n",
    "loader_text=TextLoader(\"speech.txt\")"
   ]
  },
  {
   "cell_type": "code",
   "execution_count": 11,
   "id": "c501b644-56c1-4203-a1cc-400770c8df16",
   "metadata": {},
   "outputs": [
    {
     "data": {
      "text/plain": [
       "[Document(page_content='I have a dream that one day down in Alabama, with its vicious racists, with its governor having his lips dripping with the words of interposition and nullification â€“ one day right there in Alabama little black boys and black girls will be able to join hands with little white boys and white girls as sisters and brothers.\\n\\nI have a dream today.\\n\\nI have a dream that one day every valley shall be exalted, and every hill and mountain shall be made low, the rough places will be made plain, and the crooked places will be made straight, and the glory of the Lord shall be revealed and all flesh shall see it together.\\n\\nThis is our hope. This is the faith that I go back to the South with. With this faith we will be able to hew out of the mountain of despair a stone of hope. With this faith we will be able to transform the jangling discords of our nation into a beautiful symphony of brotherhood. With this faith we will be able to work together, to pray together, to struggle together, to go to jail together, to stand up for freedom together, knowing that we will be free one day.\\n\\nThis will be the day, this will be the day when all of Godâ€™s children will be able to sing with new meaning â€œMy country â€™tis of thee, sweet land of liberty, of thee I sing. Land where my fatherâ€™s died, land of the Pilgrimâ€™s pride, from every mountainside, let freedom ring!', metadata={'source': 'speech.txt'})]"
      ]
     },
     "execution_count": 11,
     "metadata": {},
     "output_type": "execute_result"
    }
   ],
   "source": [
    "text_docucment=loader_text.load()\n",
    "text_docucment"
   ]
  },
  {
   "cell_type": "markdown",
   "id": "97cef07e-b229-49d0-b0f3-18e2264864c6",
   "metadata": {},
   "source": [
    "## Web based"
   ]
  },
  {
   "cell_type": "code",
   "execution_count": 18,
   "id": "2f95f7f8-695e-4282-be5a-c2ea95f449a7",
   "metadata": {},
   "outputs": [],
   "source": [
    "# pip install bs4"
   ]
  },
  {
   "cell_type": "code",
   "execution_count": 19,
   "id": "776979c7-3ae3-4d20-912b-85ca5d4da312",
   "metadata": {},
   "outputs": [],
   "source": [
    "from langchain_community.document_loaders import WebBaseLoader\n",
    "import bs4"
   ]
  },
  {
   "cell_type": "code",
   "execution_count": 22,
   "id": "32261a43-c740-49eb-95f1-aea204860efc",
   "metadata": {},
   "outputs": [],
   "source": [
    "loader_web=WebBaseLoader(web_paths=(\"https://lilianweng.github.io/posts/2023-06-23-agent/\",),\n",
    "                        bs_kwargs=dict(parse_only=bs4.SoupStrainer(class_=(\"post-content\", \"post-title\", \"post-header\"))))"
   ]
  },
  {
   "cell_type": "code",
   "execution_count": 24,
   "id": "698ce369-056b-458b-9777-5bedfa76e88e",
   "metadata": {
    "scrolled": true,
    "tags": []
   },
   "outputs": [],
   "source": [
    "web_document=loader_web.load()\n",
    "# web_document"
   ]
  },
  {
   "cell_type": "markdown",
   "id": "b6ca0b9d-0488-4bb8-b614-fe63f3fee4df",
   "metadata": {},
   "source": [
    "## PDF based"
   ]
  },
  {
   "cell_type": "code",
   "execution_count": 28,
   "id": "9bc2b70f-1a08-449f-b007-eb70eda0bbc8",
   "metadata": {},
   "outputs": [],
   "source": [
    "# pip install pypdf"
   ]
  },
  {
   "cell_type": "code",
   "execution_count": 29,
   "id": "4c22749f-a450-414b-b77e-cafbab0affac",
   "metadata": {},
   "outputs": [],
   "source": [
    "from langchain_community.document_loaders import PyPDFLoader"
   ]
  },
  {
   "cell_type": "code",
   "execution_count": 30,
   "id": "cc27bd6f-0a14-426e-b40d-3ed5a2775bb1",
   "metadata": {},
   "outputs": [],
   "source": [
    "loader_pdf=PyPDFLoader(\"attention.pdf\")"
   ]
  },
  {
   "cell_type": "code",
   "execution_count": 31,
   "id": "83531295-b3ac-4351-967a-ea12d95fe81d",
   "metadata": {},
   "outputs": [],
   "source": [
    "pdf_document=loader_pdf.load()"
   ]
  },
  {
   "cell_type": "code",
   "execution_count": 33,
   "id": "c314be33-fb29-4219-9f16-072619cf242b",
   "metadata": {},
   "outputs": [],
   "source": [
    "# pdf_document"
   ]
  },
  {
   "cell_type": "code",
   "execution_count": null,
   "id": "295e4259-74b7-41a6-bbdc-8d71e2a9ddac",
   "metadata": {},
   "outputs": [],
   "source": []
  }
 ],
 "metadata": {
  "kernelspec": {
   "display_name": "langchain",
   "language": "python",
   "name": "langchain"
  },
  "language_info": {
   "codemirror_mode": {
    "name": "ipython",
    "version": 3
   },
   "file_extension": ".py",
   "mimetype": "text/x-python",
   "name": "python",
   "nbconvert_exporter": "python",
   "pygments_lexer": "ipython3",
   "version": "3.10.8"
  }
 },
 "nbformat": 4,
 "nbformat_minor": 5
}
